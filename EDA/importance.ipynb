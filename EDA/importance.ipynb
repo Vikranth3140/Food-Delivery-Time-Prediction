{
 "cells": [
  {
   "cell_type": "code",
   "execution_count": null,
   "metadata": {
    "vscode": {
     "languageId": "plaintext"
    }
   },
   "outputs": [],
   "source": [
    "import pandas as pd\n",
    "from sklearn.model_selection import train_test_split\n",
    "from sklearn.ensemble import RandomForestRegressor\n",
    "import matplotlib.pyplot as plt\n",
    "import numpy as np\n",
    "\n",
    "# # Assuming `df_cleaned` is your cleaned dataset and 'Time_taken(min)' is the target\n",
    "# # Split the dataset into features (X) and target (y)\n",
    "# X = train.drop('Time_taken(min)', axis=1)  # All columns except the target\n",
    "# y = train['Time_taken(min)']  # Target column\n",
    "\n",
    "# # Split into training and testing sets (70% train, 30% test)\n",
    "# X_train, X_test, y_train, y_test = train_test_split(X, y, test_size=0.3, random_state=42)\n",
    "\n",
    "# Initialize the Random Forest model\n",
    "rf = RandomForestRegressor(n_estimators=1000, random_state=42)\n",
    "\n",
    "# Train the model\n",
    "rf.fit(X_train, y_train)\n",
    "\n",
    "# Calculate feature importances\n",
    "importances = rf.feature_importances_\n",
    "\n",
    "# Get the feature names\n",
    "features = X.columns\n",
    "\n",
    "# Create a DataFrame for better visualization\n",
    "importance_df = pd.DataFrame({'Feature': features, 'Importance': importances})\n",
    "\n",
    "# Sort the features by importance\n",
    "importance_df = importance_df.sort_values(by='Importance', ascending=False)\n",
    "\n",
    "# Display the sorted feature importances\n",
    "print(importance_df)\n",
    "\n",
    "# Plot the feature importances\n",
    "plt.figure(figsize=(10, 6))\n",
    "plt.barh(importance_df['Feature'], importance_df['Importance'])\n",
    "plt.xlabel('Feature Importance')\n",
    "plt.ylabel('Features')\n",
    "plt.title('Feature Importance in Random Forest Model')\n",
    "plt.show()\n"
   ]
  },
  {
   "cell_type": "markdown",
   "metadata": {},
   "source": [
    " Feature  Importance\n",
    "1       Delivery_person_Ratings    0.225531\n",
    "7          Road_traffic_density    0.149848\n",
    "11          multiple_deliveries    0.127550\n",
    "6             Weatherconditions    0.113034\n",
    "0           Delivery_person_Age    0.087808\n",
    "8             Vehicle_condition    0.071233\n",
    "5   Delivery_location_longitude    0.049383\n",
    "4    Delivery_location_latitude    0.049001\n",
    "3          Restaurant_longitude    0.038088\n",
    "2           Restaurant_latitude    0.034933\n",
    "12                     Festival    0.022154\n",
    "9                 Type_of_order    0.015772\n",
    "13                         City    0.009634\n",
    "10              Type_of_vehicle    0.006032"
   ]
  }
 ],
 "metadata": {
  "language_info": {
   "name": "python"
  }
 },
 "nbformat": 4,
 "nbformat_minor": 2
}
