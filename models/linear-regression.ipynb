{
 "cells": [
  {
   "cell_type": "code",
   "execution_count": null,
   "metadata": {
    "vscode": {
     "languageId": "plaintext"
    }
   },
   "outputs": [],
   "source": [
    "import pandas as pd\n",
    "import os\n",
    "\n",
    "os.makedirs('datasets/new', exist_ok=True)\n",
    "\n",
    "def clean_dataset(df, is_train=True):\n",
    "    # Strip white spaces\n",
    "    df[df.select_dtypes(['object']).columns] = df.select_dtypes(['object']).apply(lambda x: x.str.strip())\n",
    "    \n",
    "    # Convert columns to appropriate datatypes\n",
    "    df['Delivery_person_Age'] = pd.to_numeric(df['Delivery_person_Age'], errors='coerce').astype('Int64')\n",
    "    df['Weatherconditions'] = df['Weatherconditions'].str.replace(\"conditions \", \"\", regex=False)\n",
    "    \n",
    "    if is_train:\n",
    "        # Drop \"(min)\" and convert to integer\n",
    "        df['Time_taken(min)'] = df['Time_taken(min)'].str.extract('(\\d+)').astype('Int64')\n",
    "    \n",
    "    # String columns\n",
    "    string_columns = [\n",
    "        'ID', 'Delivery_person_ID', 'Road_traffic_density', 'Type_of_order', \n",
    "        'Type_of_vehicle', 'Festival', 'City', 'Order_Date', 'Time_Orderd', \n",
    "        'Time_Order_picked'\n",
    "    ]\n",
    "    df[string_columns] = df[string_columns].astype(str)\n",
    "    \n",
    "    # Float columns\n",
    "    df['Restaurant_latitude'] = pd.to_numeric(df['Restaurant_latitude'], errors='coerce')\n",
    "    df['Restaurant_longitude'] = pd.to_numeric(df['Restaurant_longitude'], errors='coerce')\n",
    "    df['Delivery_location_latitude'] = pd.to_numeric(df['Delivery_location_latitude'], errors='coerce')\n",
    "    df['Delivery_location_longitude'] = pd.to_numeric(df['Delivery_location_longitude'], errors='coerce')\n",
    "    \n",
    "    # Numeric columns\n",
    "    df['Vehicle_condition'] = pd.to_numeric(df['Vehicle_condition'], errors='coerce').astype('Int64')\n",
    "    df['multiple_deliveries'] = pd.to_numeric(df['multiple_deliveries'], errors='coerce').astype('Int64')\n",
    "    \n",
    "    # Date and time columns\n",
    "    df['Order_Date'] = pd.to_datetime(df['Order_Date'], format='%d-%m-%Y', errors='coerce')\n",
    "    df['Time_Orderd'] = pd.to_datetime(df['Time_Orderd'], format='%H:%M:%S', errors='coerce').dt.time\n",
    "    df['Time_Order_picked'] = pd.to_datetime(df['Time_Order_picked'], format='%H:%M:%S', errors='coerce').dt.time\n",
    "    \n",
    "    # Drop rows with NaN values\n",
    "    df = df.replace(\"NaN\", pd.NA)\n",
    "    df_cleaned = df.dropna()\n",
    "    \n",
    "    return df_cleaned\n",
    "\n",
    "# Load the train dataset\n",
    "train = pd.read_csv('train.csv', skipinitialspace=True)\n",
    "train_cleaned = clean_dataset(train, is_train=True)\n",
    "train_cleaned.to_csv('new_train.csv', index=False)\n",
    "\n",
    "print(\"Train dataset cleaned and saved to 'datasets/new/train.csv'\")\n",
    "print(f\"\\nNumber of rows in train dataset before cleaning: {train.shape[0]}\")\n",
    "print(f\"Number of rows in train dataset after cleaning: {train_cleaned.shape[0]}\")"
   ]
  },
  {
   "cell_type": "code",
   "execution_count": null,
   "metadata": {
    "vscode": {
     "languageId": "plaintext"
    }
   },
   "outputs": [],
   "source": [
    "import pandas as pd\n",
    "from tqdm import tqdm\n",
    "\n",
    "\n",
    "# Start the timer\n",
    "# start_time = time.time()\n",
    "\n",
    "# Load the preprocessed train dataset\n",
    "train = pd.read_csv('new_train.csv')\n",
    "print(train.head())"
   ]
  },
  {
   "cell_type": "code",
   "execution_count": null,
   "metadata": {
    "vscode": {
     "languageId": "plaintext"
    }
   },
   "outputs": [],
   "source": [
    "from sklearn.model_selection import train_test_split\n",
    "from sklearn.linear_model import LinearRegression\n",
    "from sklearn.metrics import r2_score, mean_absolute_error\n",
    "from sklearn.preprocessing import LabelEncoder\n",
    "import time\n",
    "\n",
    "# Drop ID columns that are not needed for regression\n",
    "columns_to_drop = ['ID', 'Delivery_person_ID', 'Order_Date', 'Time_Orderd', 'Time_Order_picked']\n",
    "train.drop(columns=columns_to_drop, inplace=True, errors='ignore')  # Use errors='ignore' to avoid KeyError\n",
    "\n",
    "# Check for non-numeric columns\n",
    "non_numeric_columns = train.select_dtypes(include=['object']).columns\n",
    "print(f\"Non-numeric columns: {non_numeric_columns}\")\n",
    "\n",
    "# Encode categorical columns using Label Encoding\n",
    "label_encoder = LabelEncoder()\n",
    "\n",
    "# List of categorical columns to encode\n",
    "categorical_cols = ['Weatherconditions', 'Road_traffic_density', \n",
    "                    'Type_of_order', 'Type_of_vehicle', 'Festival', 'City']\n",
    "\n",
    "# Apply LabelEncoder to categorical columns\n",
    "for col in tqdm(categorical_cols):\n",
    "    train[col] = label_encoder.fit_transform(train[col])\n",
    "\n",
    "# After encoding, check again for any non-numeric columns\n",
    "non_numeric_columns_after = train.select_dtypes(include=['object']).columns\n",
    "print(f\"Remaining non-numeric columns after encoding: {non_numeric_columns_after}\")\n",
    "\n",
    "# Separate features (X) and target variable (y)\n",
    "X = train.drop(columns=['Time_taken(min)'])  # Drop target variable\n",
    "y = train['Time_taken(min)']  # Target variable\n",
    "\n",
    "# Split the data into training and testing sets\n",
    "X_train, X_test, y_train, y_test = train_test_split(X, y, test_size=0.2, random_state=42)\n",
    "\n",
    "# Create a linear regression model\n",
    "model = LinearRegression()\n",
    "\n",
    "# Train the model\n",
    "model.fit(X_train, y_train)\n",
    "\n",
    "# Predict on the test set\n",
    "y_pred = model.predict(X_test)\n",
    "\n",
    "# Evaluate the model\n",
    "r2 = r2_score(y_test, y_pred)\n",
    "mae = mean_absolute_error(y_test, y_pred)\n",
    "\n",
    "print(f\"R-squared: {r2}\")\n",
    "print(f\"Mean Absolute Error: {mae}\")\n"
   ]
  }
 ],
 "metadata": {
  "language_info": {
   "name": "python"
  }
 },
 "nbformat": 4,
 "nbformat_minor": 2
}
